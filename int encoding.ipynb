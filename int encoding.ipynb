{
 "cells": [
  {
   "cell_type": "code",
   "execution_count": 1,
   "id": "initial_id",
   "metadata": {
    "collapsed": true,
    "ExecuteTime": {
     "end_time": "2023-12-06T22:23:01.551517091Z",
     "start_time": "2023-12-06T22:23:01.463420674Z"
    }
   },
   "outputs": [],
   "source": [
    "import numpy"
   ]
  },
  {
   "cell_type": "code",
   "execution_count": 4,
   "outputs": [
    {
     "name": "stdout",
     "output_type": "stream",
     "text": [
      "b'\\x00\\x00\\r\\xac'   4\n",
      "3500\n"
     ]
    }
   ],
   "source": [
    "a: int = 3500\n",
    "\n",
    "encoded = a.to_bytes(4,byteorder='big')\n",
    "print(encoded, ' ', len(encoded))\n",
    "\n",
    "decoded = int.from_bytes(encoded, byteorder='big')\n",
    "print(decoded)"
   ],
   "metadata": {
    "collapsed": false,
    "ExecuteTime": {
     "end_time": "2023-12-06T22:24:08.856962911Z",
     "start_time": "2023-12-06T22:24:08.830169721Z"
    }
   },
   "id": "930feb4533c8233c"
  }
 ],
 "metadata": {
  "kernelspec": {
   "display_name": "Python 3",
   "language": "python",
   "name": "python3"
  },
  "language_info": {
   "codemirror_mode": {
    "name": "ipython",
    "version": 2
   },
   "file_extension": ".py",
   "mimetype": "text/x-python",
   "name": "python",
   "nbconvert_exporter": "python",
   "pygments_lexer": "ipython2",
   "version": "2.7.6"
  }
 },
 "nbformat": 4,
 "nbformat_minor": 5
}
